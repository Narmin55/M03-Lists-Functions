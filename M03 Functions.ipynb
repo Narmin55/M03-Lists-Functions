{
 "cells": [
  {
   "cell_type": "code",
   "execution_count": 3,
   "id": "e44ad26e-20f4-44e9-98b8-fc92e44f61db",
   "metadata": {},
   "outputs": [
    {
     "name": "stdout",
     "output_type": "stream",
     "text": [
      "['Harry', 'Ron', 'Hermione']\n"
     ]
    }
   ],
   "source": [
    "# 9.1\n",
    "def good():\n",
    "    return ['Harry', 'Ron', 'Hermione']\n",
    "print(good());"
   ]
  },
  {
   "cell_type": "code",
   "execution_count": 9,
   "id": "e2232d77-0d5d-4f3f-bfd9-3a3e4aa130ce",
   "metadata": {},
   "outputs": [
    {
     "name": "stdout",
     "output_type": "stream",
     "text": [
      "The third value is: 5\n"
     ]
    }
   ],
   "source": [
    "# 9.2\n",
    "def get_odds():\n",
    "    for num in range(1, 10, 2):\n",
    "        yield num\n",
    "\n",
    "count = 0\n",
    "for value in get_odds():\n",
    "    count = count + 1\n",
    "    if count == 3:\n",
    "        print(\"The third value is:\", value)\n",
    "        break"
   ]
  }
 ],
 "metadata": {
  "kernelspec": {
   "display_name": "Python 3 (ipykernel)",
   "language": "python",
   "name": "python3"
  },
  "language_info": {
   "codemirror_mode": {
    "name": "ipython",
    "version": 3
   },
   "file_extension": ".py",
   "mimetype": "text/x-python",
   "name": "python",
   "nbconvert_exporter": "python",
   "pygments_lexer": "ipython3",
   "version": "3.11.7"
  }
 },
 "nbformat": 4,
 "nbformat_minor": 5
}
